{
 "cells": [
  {
   "cell_type": "code",
   "execution_count": 1,
   "metadata": {},
   "outputs": [
    {
     "name": "stdout",
     "output_type": "stream",
     "text": [
      "setting up librarian...\n",
      "setting up youtube explorer...\n",
      "setting up scholar...\n",
      "Refreshing the library...\n",
      "{'channel_id': 'UCsZYUb8C_19bWOCKF9jRwSg', 'channel_title': 'The Globe and Mail', 'channel_category': 'News', 'published_at': '2024-11-30T15:30:00Z', 'title': 'Companies are racing to make AI-powered robots for everyday life'}\n"
     ]
    }
   ],
   "source": [
    "import Watchmen\n",
    "\n",
    "watchmen = Watchmen.Watchmen(youtube_api_key_path='E:\\\\keys\\\\youtubeDataApiKey.txt',openai_api_key_path='E:\\\\keys\\\\openAIApiKey.txt', spacy_model='en_core_web_trf')\n",
    "\n",
    "#taylor_swift_videos = watchmen.librarian.videos_containing_entity('taylor swift')\n",
    "#print(taylor_swift_videos)\n",
    "watchmen.scholar.text_from_transcript_parquet('./data/transcripts/0IeFoBSmfIE_transcript.parquet')\n",
    "vi = watchmen.scholar.lookup_video_info('0IeFoBSmfIE')\n",
    "print(vi)\n",
    "\n",
    "m = watchmen.scholar.create_overall_classification()\n",
    "print(m)\n",
    "#watchmen.fetch_new_transcripts_for_channels()\n",
    "#watchmen.build_entities_for_all()"
   ]
  },
  {
   "cell_type": "code",
   "execution_count": 2,
   "metadata": {},
   "outputs": [
    {
     "name": "stdout",
     "output_type": "stream",
     "text": [
      "{'summary': 'Recent advancements in AI and robotics are poised to transform various industries, with a surge in startups and investments due to lower costs and improved technology. Experts highlight the enhanced efficiency and capabilities of robots, but significant challenges remain in achieving full autonomy and human interaction. Major tech companies are heavily investing in AI, indicating a booming market, yet the realization of science fiction-like robots is still a distant goal.', 'summary_reasoning': 'The document discusses the rapid advancements in artificial intelligence (AI) and robotics, highlighting the potential impact on various sectors such as healthcare and disaster response. It emphasizes the increasing number of startups and investments in AI-powered robotics, driven by decreasing costs and improved technology. Experts like Serena Evaldi note that recent developments in mechatronics have made robots more efficient and capable. However, there are still significant challenges to achieving fully autonomous robots that can interact seamlessly with humans in complex environments. The document also mentions the substantial financial backing from major tech companies and venture capitalists in the AI sector.', 'sentiment': True, 'primary_emotion': 'surprise', 'secondary_emotion': 'optimism', 'channel_id': 'UCsZYUb8C_19bWOCKF9jRwSg', 'channel_title': 'The Globe and Mail', 'channel_category': 'News', 'title': 'Companies are racing to make AI-powered robots for everyday life', 'published_at': '2024-11-30T15:30:00Z'}\n"
     ]
    }
   ],
   "source": [
    "m = watchmen.scholar.create_overall_classification()\n",
    "print(m)"
   ]
  },
  {
   "cell_type": "code",
   "execution_count": 2,
   "metadata": {},
   "outputs": [
    {
     "name": "stdout",
     "output_type": "stream",
     "text": [
      "      video_id                                              title  \\\n",
      "0  y40lLbzUWOk  Who stole half-a-million dollars worth of cheese?   \n",
      "1  Bhn9Hsnu2B0  Why some are turning to sound baths for relaxa...   \n",
      "2  wVoy_3viGog  Bonus ‘The Decibel’: How an algorithm missed a...   \n",
      "3  jV6-plEYnAE  Joe, meet Joe: Globe reporter talks to an inte...   \n",
      "4  JKY94VnxUYs   The real town behind Hallmark’s Christmas movies   \n",
      "\n",
      "           published_at                channel_id  code  \n",
      "0  2025-01-03T10:00:55Z  UCsZYUb8C_19bWOCKF9jRwSg  True  \n",
      "1  2025-01-02T10:00:11Z  UCsZYUb8C_19bWOCKF9jRwSg  True  \n",
      "2  2024-12-31T12:23:54Z  UCsZYUb8C_19bWOCKF9jRwSg  True  \n",
      "3  2024-12-26T19:21:57Z  UCsZYUb8C_19bWOCKF9jRwSg  True  \n",
      "4  2024-12-20T16:08:10Z  UCsZYUb8C_19bWOCKF9jRwSg  True  \n",
      "The Globe and Mail\n"
     ]
    }
   ],
   "source": [
    "import pandas as pd\n",
    "import os\n",
    "\n",
    "video_id = '0IeFoBSmfIE'\n",
    "channel_id = ''\n",
    "channel_name = ''\n",
    "channel_category = ''\n",
    "\n",
    "for file in os.listdir('./data/channels/'):\n",
    "    df = pd.read_parquet('./data/channels/' + file)\n",
    "    video_ids = df['video_id'].to_list()\n",
    "    if video_id in video_ids:\n",
    "        channel_id = file.replace('_search.parquet', '')\n",
    "        print(df.head())\n",
    "        break\n",
    "\n",
    "if channel_id != '':\n",
    "    dfc = pd.read_csv('./data/youtube_channels_index.csv', encoding='utf-8')\n",
    "    dfs = dfc[dfc['channel_id']==channel_id]\n",
    "    if dfs.shape[0] > 0:\n",
    "        channel_name = dfs['channel_title'].iloc[0]\n",
    "        channel_category = dfs['category'].iloc[0]\n",
    "\n",
    "print(channel_name)"
   ]
  },
  {
   "cell_type": "code",
   "execution_count": 4,
   "metadata": {},
   "outputs": [
    {
     "data": {
      "text/html": [
       "<div>\n",
       "<style scoped>\n",
       "    .dataframe tbody tr th:only-of-type {\n",
       "        vertical-align: middle;\n",
       "    }\n",
       "\n",
       "    .dataframe tbody tr th {\n",
       "        vertical-align: top;\n",
       "    }\n",
       "\n",
       "    .dataframe thead th {\n",
       "        text-align: right;\n",
       "    }\n",
       "</style>\n",
       "<table border=\"1\" class=\"dataframe\">\n",
       "  <thead>\n",
       "    <tr style=\"text-align: right;\">\n",
       "      <th></th>\n",
       "      <th>channel_id</th>\n",
       "      <th>channel_title</th>\n",
       "      <th>category</th>\n",
       "    </tr>\n",
       "  </thead>\n",
       "  <tbody>\n",
       "    <tr>\n",
       "      <th>0</th>\n",
       "      <td>UChpleBmo18P08aKCIgti38g</td>\n",
       "      <td>Matt Wolfe</td>\n",
       "      <td>AI influencer</td>\n",
       "    </tr>\n",
       "    <tr>\n",
       "      <th>1</th>\n",
       "      <td>UCuFFtHWoLl5fauMMD5Ww2jA</td>\n",
       "      <td>CBC</td>\n",
       "      <td>News</td>\n",
       "    </tr>\n",
       "    <tr>\n",
       "      <th>2</th>\n",
       "      <td>UCkiP0kvvwqUWlttRLCq88gw</td>\n",
       "      <td>Global news</td>\n",
       "      <td>News</td>\n",
       "    </tr>\n",
       "    <tr>\n",
       "      <th>3</th>\n",
       "      <td>UCWE58e_BbmBgE8h-oskutQA</td>\n",
       "      <td>The Toronto Star</td>\n",
       "      <td>News</td>\n",
       "    </tr>\n",
       "    <tr>\n",
       "      <th>4</th>\n",
       "      <td>UCsZYUb8C_19bWOCKF9jRwSg</td>\n",
       "      <td>The Globe and Mail</td>\n",
       "      <td>News</td>\n",
       "    </tr>\n",
       "  </tbody>\n",
       "</table>\n",
       "</div>"
      ],
      "text/plain": [
       "                 channel_id       channel_title       category\n",
       "0  UChpleBmo18P08aKCIgti38g          Matt Wolfe  AI influencer\n",
       "1  UCuFFtHWoLl5fauMMD5Ww2jA                 CBC           News\n",
       "2  UCkiP0kvvwqUWlttRLCq88gw         Global news           News\n",
       "3  UCWE58e_BbmBgE8h-oskutQA    The Toronto Star           News\n",
       "4  UCsZYUb8C_19bWOCKF9jRwSg  The Globe and Mail           News"
      ]
     },
     "execution_count": 4,
     "metadata": {},
     "output_type": "execute_result"
    }
   ],
   "source": [
    "dfChannelIndex = pd.read_csv('E:\\Agents\\data\\youtube_channels_index.csv', encoding='utf-8')\n",
    "dfChannelIndex.head()"
   ]
  },
  {
   "cell_type": "code",
   "execution_count": 19,
   "metadata": {},
   "outputs": [
    {
     "name": "stdout",
     "output_type": "stream",
     "text": [
      "['0IeFoBSmfIE', '1wTgXqxIzuA', '2kti4GYoBxo', '3_LVaHqP96k', '4R9kaZAtxlE', '5flZd0iCbtw', '7AAAQWceNnQ', '8NTzxtPIYV8', '8Qa7Zudn7T0', '8ZmN0LAYMNA', 'c2IDeBtKBN8', 'cb5nWwtPtO8', 'diBb5mIrcLQ', 'Drum1iCtRKk', 'dWJSME_u6uY', 'E7ufDsZlOgM', 'emG9k6nRBnk', 'eTTkwS2FlLc', 'FbtsqmPBcDI', 'f_00EtwCtsA', 'G1wyatzXz1U', 'GbtzxpH2Tx8', 'gjBQ7vSj7Y8', 'GNS6YKSxih0', 'GUUwLSR20jE', 'gwsTrX_L_uI', 'hG6QhOEnv1M', 'HHo75uaFiZY', 'HSaMPhntxuw', 'hXt-_yf4Lvc', 'I3Q4XVCTfNM', 'I5_w4nwBuX0', 'jEs8zJgj91E', 'JllsW601Uvs', 'k5NYfhJlWOI', 'KBAB9BZzF4A', 'LijqY5fg6JY', 'Ls-RGGd2eyc', 'MvvXpEWEJUg', 'NHzZqOTexZI', 'NrhFEuqvqC0', 'NrPUExdaT9w', 'o3Bgl6Vjm6w', 'oE-BtInW-gA', 'OHJwb_dd35c', 'Omv_wu3XIQY', 'PkVlEHG-qv4', 'PPD_soDHK_g', 'pt2qXsURflg', 'PvWWtbc5-w8', 'PzjIIqKneZY', 'Q8UGyXOn2NM', 'qlKW7LOO9ts', 'qSUdp1XMPX4', 'Rfws9ZMmkJk', 'rkMmDpj4jBM', 's0gf-NT1gHs', 's5dlFIKg7Lw', 'TGR0JwoNGZI', 'Tqkk-0xkatY', 'ttcTRXMQtCE', 'UAfkEOfPI_Y', 'uddXfVy5eGY', 'ULO-jshyOeY', 'vnh8_MS_6Jg', 'Xl5csiAivRQ', 'xnvXRpdqgVc', 'Yl5lLeUOaIg', 'yLhekdH94hw', 'zIRPF41LcP0', 'zWhLEYiKXwk', 'zXEf40JreaI']\n"
     ]
    }
   ],
   "source": [
    "import os\n",
    "\n",
    "video_ids = []\n",
    "name = 'Elon Musk'\n",
    "\n",
    "name = name.lower()\n",
    "\n",
    "for entity_list in os.listdir('E:\\\\Agents\\\\data\\\\entities\\\\'):\n",
    "    dfe = pd.read_parquet(f'E:\\\\Agents\\\\data\\\\entities\\\\{entity_list}')\n",
    "    dfe = dfe[dfe['entity_type']=='PERSON']\n",
    "    dfe['value'] = dfe['value'].astype(str).str.lower()\n",
    "    l = dfe['value'].to_list()\n",
    "    if name in l:\n",
    "        video_ids.append(entity_list.replace('_entities.parquet',''))\n",
    "    \n",
    "print(video_ids)"
   ]
  },
  {
   "cell_type": "code",
   "execution_count": 3,
   "metadata": {},
   "outputs": [
    {
     "data": {
      "text/html": [
       "<div>\n",
       "<style scoped>\n",
       "    .dataframe tbody tr th:only-of-type {\n",
       "        vertical-align: middle;\n",
       "    }\n",
       "\n",
       "    .dataframe tbody tr th {\n",
       "        vertical-align: top;\n",
       "    }\n",
       "\n",
       "    .dataframe thead th {\n",
       "        text-align: right;\n",
       "    }\n",
       "</style>\n",
       "<table border=\"1\" class=\"dataframe\">\n",
       "  <thead>\n",
       "    <tr style=\"text-align: right;\">\n",
       "      <th></th>\n",
       "      <th>entity_type</th>\n",
       "      <th>value</th>\n",
       "    </tr>\n",
       "  </thead>\n",
       "  <tbody>\n",
       "  </tbody>\n",
       "</table>\n",
       "</div>"
      ],
      "text/plain": [
       "Empty DataFrame\n",
       "Columns: [entity_type, value]\n",
       "Index: []"
      ]
     },
     "execution_count": 3,
     "metadata": {},
     "output_type": "execute_result"
    }
   ],
   "source": [
    "import pandas as pd\n",
    "df = pd.read_parquet('E:\\\\Agents\\\\data\\\\entities\\\\_5A6xzw9gJ0_entities.parquet')\n",
    "df.head()"
   ]
  }
 ],
 "metadata": {
  "kernelspec": {
   "display_name": "Python 3",
   "language": "python",
   "name": "python3"
  },
  "language_info": {
   "codemirror_mode": {
    "name": "ipython",
    "version": 3
   },
   "file_extension": ".py",
   "mimetype": "text/x-python",
   "name": "python",
   "nbconvert_exporter": "python",
   "pygments_lexer": "ipython3",
   "version": "3.11.9"
  }
 },
 "nbformat": 4,
 "nbformat_minor": 2
}
