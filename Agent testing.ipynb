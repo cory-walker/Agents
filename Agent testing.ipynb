{
 "cells": [
  {
   "cell_type": "code",
   "execution_count": 1,
   "metadata": {},
   "outputs": [
    {
     "name": "stdout",
     "output_type": "stream",
     "text": [
      "setting up librarian...\n",
      "setting up youtube explorer...\n",
      "setting up scholar...\n"
     ]
    }
   ],
   "source": [
    "import Watchmen\n",
    "\n",
    "watchmen = Watchmen.Watchmen(youtube_api_key_path='E:\\\\keys\\\\youtubeDataApiKey.txt',openai_api_key_path='E:\\\\keys\\\\openAIApiKey.txt', spacy_model='en_core_web_trf', refresh_indexes=False)"
   ]
  },
  {
   "cell_type": "code",
   "execution_count": 54,
   "metadata": {},
   "outputs": [
    {
     "data": {
      "text/html": [
       "<div>\n",
       "<style scoped>\n",
       "    .dataframe tbody tr th:only-of-type {\n",
       "        vertical-align: middle;\n",
       "    }\n",
       "\n",
       "    .dataframe tbody tr th {\n",
       "        vertical-align: top;\n",
       "    }\n",
       "\n",
       "    .dataframe thead th {\n",
       "        text-align: right;\n",
       "    }\n",
       "</style>\n",
       "<table border=\"1\" class=\"dataframe\">\n",
       "  <thead>\n",
       "    <tr style=\"text-align: right;\">\n",
       "      <th></th>\n",
       "      <th>lib_key</th>\n",
       "      <th>source_id</th>\n",
       "      <th>rec_mod_dtm</th>\n",
       "      <th>doc_type_id</th>\n",
       "      <th>source_system_id</th>\n",
       "      <th>path</th>\n",
       "      <th>summary</th>\n",
       "      <th>summary_reasoning</th>\n",
       "      <th>sentiment</th>\n",
       "      <th>primary_emotion</th>\n",
       "      <th>secondary_emotion</th>\n",
       "      <th>channel_id</th>\n",
       "      <th>channel_title</th>\n",
       "      <th>category</th>\n",
       "      <th>region</th>\n",
       "      <th>entity</th>\n",
       "    </tr>\n",
       "  </thead>\n",
       "  <tbody>\n",
       "    <tr>\n",
       "      <th>0</th>\n",
       "      <td>2077</td>\n",
       "      <td>0dYFFxBTbhg</td>\n",
       "      <td>2025-01-01 17:11:39</td>\n",
       "      <td>2</td>\n",
       "      <td>2</td>\n",
       "      <td>./data/transcripts/0dYFFxBTbhg_transcript.parquet</td>\n",
       "      <td>The Senate Judiciary Committee released a repo...</td>\n",
       "      <td>The document discusses a report released by th...</td>\n",
       "      <td>True</td>\n",
       "      <td>anger</td>\n",
       "      <td>exasperation</td>\n",
       "      <td>UCaXkIU1QidjPwiAYu6GcHjg</td>\n",
       "      <td>NBC News</td>\n",
       "      <td>News</td>\n",
       "      <td>USA</td>\n",
       "      <td>trump</td>\n",
       "    </tr>\n",
       "    <tr>\n",
       "      <th>0</th>\n",
       "      <td>2085</td>\n",
       "      <td>18gjwzCbN_A</td>\n",
       "      <td>2025-01-01 17:11:11</td>\n",
       "      <td>2</td>\n",
       "      <td>2</td>\n",
       "      <td>./data/transcripts/18gjwzCbN_A_transcript.parquet</td>\n",
       "      <td>The document analyzes Mike Johnson's bid for S...</td>\n",
       "      <td>The document discusses the political dynamics ...</td>\n",
       "      <td>True</td>\n",
       "      <td>surprise</td>\n",
       "      <td>exasperation</td>\n",
       "      <td>UCaXkIU1QidjPwiAYu6GcHjg</td>\n",
       "      <td>NBC News</td>\n",
       "      <td>News</td>\n",
       "      <td>USA</td>\n",
       "      <td>trump</td>\n",
       "    </tr>\n",
       "    <tr>\n",
       "      <th>0</th>\n",
       "      <td>2930</td>\n",
       "      <td>2Jxa76aSHK4</td>\n",
       "      <td>2025-01-08 19:08:55</td>\n",
       "      <td>2</td>\n",
       "      <td>2</td>\n",
       "      <td>./data/transcripts/2Jxa76aSHK4_transcript.parquet</td>\n",
       "      <td>The document features a political figure refle...</td>\n",
       "      <td>The document discusses a conversation with a p...</td>\n",
       "      <td>True</td>\n",
       "      <td>love</td>\n",
       "      <td>pride</td>\n",
       "      <td>UCP6HGa63sBC7-KHtkme-p-g</td>\n",
       "      <td>USA Today</td>\n",
       "      <td>News</td>\n",
       "      <td>USA</td>\n",
       "      <td>trump</td>\n",
       "    </tr>\n",
       "    <tr>\n",
       "      <th>0</th>\n",
       "      <td>2098</td>\n",
       "      <td>2yI8UTm0fuQ</td>\n",
       "      <td>2025-01-01 17:11:00</td>\n",
       "      <td>2</td>\n",
       "      <td>2</td>\n",
       "      <td>./data/transcripts/2yI8UTm0fuQ_transcript.parquet</td>\n",
       "      <td>The document outlines President Biden's transi...</td>\n",
       "      <td>The document discusses President Biden's trans...</td>\n",
       "      <td>True</td>\n",
       "      <td>joy</td>\n",
       "      <td>optimism</td>\n",
       "      <td>UCaXkIU1QidjPwiAYu6GcHjg</td>\n",
       "      <td>NBC News</td>\n",
       "      <td>News</td>\n",
       "      <td>USA</td>\n",
       "      <td>trump</td>\n",
       "    </tr>\n",
       "    <tr>\n",
       "      <th>0</th>\n",
       "      <td>2728</td>\n",
       "      <td>2zaUEUAYETE</td>\n",
       "      <td>2025-01-04 14:47:45</td>\n",
       "      <td>2</td>\n",
       "      <td>2</td>\n",
       "      <td>./data/transcripts/2zaUEUAYETE_transcript.parquet</td>\n",
       "      <td>The speech expresses gratitude for a nominatio...</td>\n",
       "      <td>The document is a speech delivered by a politi...</td>\n",
       "      <td>True</td>\n",
       "      <td>joy</td>\n",
       "      <td>optimism</td>\n",
       "      <td>UCaXkIU1QidjPwiAYu6GcHjg</td>\n",
       "      <td>NBC News</td>\n",
       "      <td>News</td>\n",
       "      <td>USA</td>\n",
       "      <td>trump</td>\n",
       "    </tr>\n",
       "  </tbody>\n",
       "</table>\n",
       "</div>"
      ],
      "text/plain": [
       "   lib_key    source_id          rec_mod_dtm  doc_type_id  source_system_id  \\\n",
       "0     2077  0dYFFxBTbhg  2025-01-01 17:11:39            2                 2   \n",
       "0     2085  18gjwzCbN_A  2025-01-01 17:11:11            2                 2   \n",
       "0     2930  2Jxa76aSHK4  2025-01-08 19:08:55            2                 2   \n",
       "0     2098  2yI8UTm0fuQ  2025-01-01 17:11:00            2                 2   \n",
       "0     2728  2zaUEUAYETE  2025-01-04 14:47:45            2                 2   \n",
       "\n",
       "                                                path  \\\n",
       "0  ./data/transcripts/0dYFFxBTbhg_transcript.parquet   \n",
       "0  ./data/transcripts/18gjwzCbN_A_transcript.parquet   \n",
       "0  ./data/transcripts/2Jxa76aSHK4_transcript.parquet   \n",
       "0  ./data/transcripts/2yI8UTm0fuQ_transcript.parquet   \n",
       "0  ./data/transcripts/2zaUEUAYETE_transcript.parquet   \n",
       "\n",
       "                                             summary  \\\n",
       "0  The Senate Judiciary Committee released a repo...   \n",
       "0  The document analyzes Mike Johnson's bid for S...   \n",
       "0  The document features a political figure refle...   \n",
       "0  The document outlines President Biden's transi...   \n",
       "0  The speech expresses gratitude for a nominatio...   \n",
       "\n",
       "                                   summary_reasoning  sentiment  \\\n",
       "0  The document discusses a report released by th...       True   \n",
       "0  The document discusses the political dynamics ...       True   \n",
       "0  The document discusses a conversation with a p...       True   \n",
       "0  The document discusses President Biden's trans...       True   \n",
       "0  The document is a speech delivered by a politi...       True   \n",
       "\n",
       "  primary_emotion secondary_emotion                channel_id channel_title  \\\n",
       "0           anger      exasperation  UCaXkIU1QidjPwiAYu6GcHjg      NBC News   \n",
       "0        surprise      exasperation  UCaXkIU1QidjPwiAYu6GcHjg      NBC News   \n",
       "0            love             pride  UCP6HGa63sBC7-KHtkme-p-g     USA Today   \n",
       "0             joy          optimism  UCaXkIU1QidjPwiAYu6GcHjg      NBC News   \n",
       "0             joy          optimism  UCaXkIU1QidjPwiAYu6GcHjg      NBC News   \n",
       "\n",
       "  category region entity  \n",
       "0     News    USA  trump  \n",
       "0     News    USA  trump  \n",
       "0     News    USA  trump  \n",
       "0     News    USA  trump  \n",
       "0     News    USA  trump  "
      ]
     },
     "execution_count": 54,
     "metadata": {},
     "output_type": "execute_result"
    }
   ],
   "source": [
    "df = watchmen.librarian.collect_multi_entity_data(['trump'])\n",
    "df = df[df['region']=='USA']\n",
    "df.head()"
   ]
  },
  {
   "cell_type": "code",
   "execution_count": 55,
   "metadata": {},
   "outputs": [
    {
     "data": {
      "text/html": [
       "<div>\n",
       "<style scoped>\n",
       "    .dataframe tbody tr th:only-of-type {\n",
       "        vertical-align: middle;\n",
       "    }\n",
       "\n",
       "    .dataframe tbody tr th {\n",
       "        vertical-align: top;\n",
       "    }\n",
       "\n",
       "    .dataframe thead th {\n",
       "        text-align: right;\n",
       "    }\n",
       "</style>\n",
       "<table border=\"1\" class=\"dataframe\">\n",
       "  <thead>\n",
       "    <tr style=\"text-align: right;\">\n",
       "      <th></th>\n",
       "      <th>region</th>\n",
       "      <th>entity</th>\n",
       "      <th>channel_title</th>\n",
       "      <th>primary_emotion</th>\n",
       "      <th>secondary_emotion</th>\n",
       "      <th>sentiment</th>\n",
       "      <th>videos</th>\n",
       "      <th>channel_ttl</th>\n",
       "      <th>perc</th>\n",
       "    </tr>\n",
       "  </thead>\n",
       "  <tbody>\n",
       "    <tr>\n",
       "      <th>0</th>\n",
       "      <td>USA</td>\n",
       "      <td>trump</td>\n",
       "      <td>Associated Press</td>\n",
       "      <td>anger</td>\n",
       "      <td>exasperation</td>\n",
       "      <td>False</td>\n",
       "      <td>4</td>\n",
       "      <td>20</td>\n",
       "      <td>0.20</td>\n",
       "    </tr>\n",
       "    <tr>\n",
       "      <th>1</th>\n",
       "      <td>USA</td>\n",
       "      <td>trump</td>\n",
       "      <td>Associated Press</td>\n",
       "      <td>anger</td>\n",
       "      <td>horror</td>\n",
       "      <td>False</td>\n",
       "      <td>1</td>\n",
       "      <td>20</td>\n",
       "      <td>0.05</td>\n",
       "    </tr>\n",
       "    <tr>\n",
       "      <th>2</th>\n",
       "      <td>USA</td>\n",
       "      <td>trump</td>\n",
       "      <td>Associated Press</td>\n",
       "      <td>anger</td>\n",
       "      <td>optimism</td>\n",
       "      <td>True</td>\n",
       "      <td>1</td>\n",
       "      <td>20</td>\n",
       "      <td>0.05</td>\n",
       "    </tr>\n",
       "    <tr>\n",
       "      <th>3</th>\n",
       "      <td>USA</td>\n",
       "      <td>trump</td>\n",
       "      <td>Associated Press</td>\n",
       "      <td>fear</td>\n",
       "      <td>horror</td>\n",
       "      <td>False</td>\n",
       "      <td>4</td>\n",
       "      <td>20</td>\n",
       "      <td>0.20</td>\n",
       "    </tr>\n",
       "    <tr>\n",
       "      <th>4</th>\n",
       "      <td>USA</td>\n",
       "      <td>trump</td>\n",
       "      <td>Associated Press</td>\n",
       "      <td>joy</td>\n",
       "      <td>optimism</td>\n",
       "      <td>True</td>\n",
       "      <td>1</td>\n",
       "      <td>20</td>\n",
       "      <td>0.05</td>\n",
       "    </tr>\n",
       "  </tbody>\n",
       "</table>\n",
       "</div>"
      ],
      "text/plain": [
       "  region entity     channel_title primary_emotion secondary_emotion  \\\n",
       "0    USA  trump  Associated Press           anger      exasperation   \n",
       "1    USA  trump  Associated Press           anger            horror   \n",
       "2    USA  trump  Associated Press           anger          optimism   \n",
       "3    USA  trump  Associated Press            fear            horror   \n",
       "4    USA  trump  Associated Press             joy          optimism   \n",
       "\n",
       "   sentiment  videos  channel_ttl  perc  \n",
       "0      False       4           20  0.20  \n",
       "1      False       1           20  0.05  \n",
       "2       True       1           20  0.05  \n",
       "3      False       4           20  0.20  \n",
       "4       True       1           20  0.05  "
      ]
     },
     "execution_count": 55,
     "metadata": {},
     "output_type": "execute_result"
    }
   ],
   "source": [
    "def split_emot(emot):\n",
    "    if type(emot) is list:\n",
    "        return emot[0]\n",
    "    else:\n",
    "        return emot\n",
    "\n",
    "dfchan = df.groupby(['channel_title']).lib_key.count().reset_index().rename(columns={'lib_key':'channel_ttl'})\n",
    "df['primary_emotion'] = df['primary_emotion'].apply(lambda x: split_emot(x))\n",
    "dfa = df.groupby(['region','entity','channel_title','primary_emotion','secondary_emotion','sentiment']).lib_key.count().reset_index().rename(columns={'lib_key':'videos'})\n",
    "dfa = dfa.join(dfchan.set_index('channel_title'), on='channel_title')\n",
    "dfa['perc'] = dfa['videos'] / dfa['channel_ttl']\n",
    "dfa = dfa[dfa['primary_emotion']!='None']\n",
    "dfa.head()"
   ]
  },
  {
   "cell_type": "code",
   "execution_count": 56,
   "metadata": {},
   "outputs": [
    {
     "data": {
      "application/vnd.plotly.v1+json": {
       "config": {
        "plotlyServerURL": "https://plot.ly"
       },
       "data": [
        {
         "alignmentgroup": "True",
         "hovertemplate": "sentiment=False<br>channel_title=Associated Press<br>secondary_emotion=%{x}<br>perc=%{y}<extra></extra>",
         "legendgroup": "False",
         "marker": {
          "color": "#636efa",
          "pattern": {
           "shape": ""
          }
         },
         "name": "False",
         "offsetgroup": "False",
         "orientation": "v",
         "showlegend": true,
         "textposition": "auto",
         "type": "bar",
         "x": [
          "exasperation",
          "horror",
          "horror",
          "affection",
          "disappointment",
          "horror",
          "sympathy",
          "exasperation",
          "horror",
          "optimism"
         ],
         "xaxis": "x",
         "y": [
          0.2,
          0.05,
          0.2,
          0.05,
          0.05,
          0.05,
          0.05,
          0.15,
          0.05,
          0.05
         ],
         "yaxis": "y"
        },
        {
         "alignmentgroup": "True",
         "hovertemplate": "sentiment=False<br>channel_title=CNN<br>secondary_emotion=%{x}<br>perc=%{y}<extra></extra>",
         "legendgroup": "False",
         "marker": {
          "color": "#636efa",
          "pattern": {
           "shape": ""
          }
         },
         "name": "False",
         "offsetgroup": "False",
         "orientation": "v",
         "showlegend": false,
         "textposition": "auto",
         "type": "bar",
         "x": [
          "disgust",
          "exasperation",
          "horror",
          "suffering",
          "horror",
          "nervousness",
          "suffering",
          "disappointment",
          "exasperation",
          "horror",
          "optimism"
         ],
         "xaxis": "x2",
         "y": [
          0.02702702702702703,
          0.43243243243243246,
          0.10810810810810811,
          0.02702702702702703,
          0.08108108108108109,
          0.02702702702702703,
          0.02702702702702703,
          0.02702702702702703,
          0.16216216216216217,
          0.02702702702702703,
          0.02702702702702703
         ],
         "yaxis": "y2"
        },
        {
         "alignmentgroup": "True",
         "hovertemplate": "sentiment=False<br>channel_title=NBC News<br>secondary_emotion=%{x}<br>perc=%{y}<extra></extra>",
         "legendgroup": "False",
         "marker": {
          "color": "#636efa",
          "pattern": {
           "shape": ""
          }
         },
         "name": "False",
         "offsetgroup": "False",
         "orientation": "v",
         "showlegend": false,
         "textposition": "auto",
         "type": "bar",
         "x": [
          "disappointment",
          "exasperation",
          "rage",
          "exasperation",
          "horror",
          "nervousness",
          "optimism",
          "suffering",
          "disappointment",
          "nervousness",
          "suffering",
          "sympathy",
          "exasperation",
          "nervousness",
          "optimism",
          "surprise"
         ],
         "xaxis": "x3",
         "y": [
          0.008695652173913044,
          0.5304347826086957,
          0.017391304347826087,
          0.008695652173913044,
          0.02608695652173913,
          0.02608695652173913,
          0.008695652173913044,
          0.008695652173913044,
          0.008695652173913044,
          0.008695652173913044,
          0.008695652173913044,
          0.043478260869565216,
          0.043478260869565216,
          0.008695652173913044,
          0.02608695652173913,
          0.008695652173913044
         ],
         "yaxis": "y3"
        },
        {
         "alignmentgroup": "True",
         "hovertemplate": "sentiment=False<br>channel_title=The Washington Post<br>secondary_emotion=%{x}<br>perc=%{y}<extra></extra>",
         "legendgroup": "False",
         "marker": {
          "color": "#636efa",
          "pattern": {
           "shape": ""
          }
         },
         "name": "False",
         "offsetgroup": "False",
         "orientation": "v",
         "showlegend": false,
         "textposition": "auto",
         "type": "bar",
         "x": [
          "disappointment",
          "exasperation",
          "irritability",
          "pride",
          "disappointment",
          "horror",
          "exasperation",
          "optimism"
         ],
         "xaxis": "x4",
         "y": [
          0.0625,
          0.3125,
          0.0625,
          0.0625,
          0.125,
          0.0625,
          0.25,
          0.0625
         ],
         "yaxis": "y4"
        },
        {
         "alignmentgroup": "True",
         "hovertemplate": "sentiment=False<br>channel_title=USA Today<br>secondary_emotion=%{x}<br>perc=%{y}<extra></extra>",
         "legendgroup": "False",
         "marker": {
          "color": "#636efa",
          "pattern": {
           "shape": ""
          }
         },
         "name": "False",
         "offsetgroup": "False",
         "orientation": "v",
         "showlegend": false,
         "textposition": "auto",
         "type": "bar",
         "x": [
          "exasperation",
          "horror",
          "horror",
          "suffering",
          "sympathy",
          "disappointment"
         ],
         "xaxis": "x5",
         "y": [
          0.3333333333333333,
          0.06666666666666667,
          0.06666666666666667,
          0.06666666666666667,
          0.13333333333333333,
          0.06666666666666667
         ],
         "yaxis": "y5"
        },
        {
         "alignmentgroup": "True",
         "hovertemplate": "sentiment=True<br>channel_title=Associated Press<br>secondary_emotion=%{x}<br>perc=%{y}<extra></extra>",
         "legendgroup": "True",
         "marker": {
          "color": "#EF553B",
          "pattern": {
           "shape": ""
          }
         },
         "name": "True",
         "offsetgroup": "True",
         "orientation": "v",
         "showlegend": true,
         "textposition": "auto",
         "type": "bar",
         "x": [
          "optimism",
          "optimism"
         ],
         "xaxis": "x",
         "y": [
          0.05,
          0.05
         ],
         "yaxis": "y"
        },
        {
         "alignmentgroup": "True",
         "hovertemplate": "sentiment=True<br>channel_title=CNN<br>secondary_emotion=%{x}<br>perc=%{y}<extra></extra>",
         "legendgroup": "True",
         "marker": {
          "color": "#EF553B",
          "pattern": {
           "shape": ""
          }
         },
         "name": "True",
         "offsetgroup": "True",
         "orientation": "v",
         "showlegend": false,
         "textposition": "auto",
         "type": "bar",
         "x": [
          "pride"
         ],
         "xaxis": "x2",
         "y": [
          0.02702702702702703
         ],
         "yaxis": "y2"
        },
        {
         "alignmentgroup": "True",
         "hovertemplate": "sentiment=True<br>channel_title=NBC News<br>secondary_emotion=%{x}<br>perc=%{y}<extra></extra>",
         "legendgroup": "True",
         "marker": {
          "color": "#EF553B",
          "pattern": {
           "shape": ""
          }
         },
         "name": "True",
         "offsetgroup": "True",
         "orientation": "v",
         "showlegend": false,
         "textposition": "auto",
         "type": "bar",
         "x": [
          "exasperation",
          "optimism",
          "pride",
          "sympathy",
          "optimism",
          "affection",
          "optimism",
          "pride",
          "affection",
          "sympathy",
          "exasperation",
          "optimism",
          "pride"
         ],
         "xaxis": "x3",
         "y": [
          0.008695652173913044,
          0.008695652173913044,
          0.008695652173913044,
          0.008695652173913044,
          0.06956521739130435,
          0.008695652173913044,
          0.008695652173913044,
          0.008695652173913044,
          0.008695652173913044,
          0.017391304347826087,
          0.017391304347826087,
          0.02608695652173913,
          0.008695652173913044
         ],
         "yaxis": "y3"
        },
        {
         "alignmentgroup": "True",
         "hovertemplate": "sentiment=True<br>channel_title=USA Today<br>secondary_emotion=%{x}<br>perc=%{y}<extra></extra>",
         "legendgroup": "True",
         "marker": {
          "color": "#EF553B",
          "pattern": {
           "shape": ""
          }
         },
         "name": "True",
         "offsetgroup": "True",
         "orientation": "v",
         "showlegend": false,
         "textposition": "auto",
         "type": "bar",
         "x": [
          "cheerfulness",
          "optimism",
          "pride"
         ],
         "xaxis": "x5",
         "y": [
          0.06666666666666667,
          0.13333333333333333,
          0.06666666666666667
         ],
         "yaxis": "y5"
        }
       ],
       "layout": {
        "annotations": [
         {
          "font": {},
          "showarrow": false,
          "text": "channel_title=Associated Press",
          "x": 0.09200000000000001,
          "xanchor": "center",
          "xref": "paper",
          "y": 1,
          "yanchor": "bottom",
          "yref": "paper"
         },
         {
          "font": {},
          "showarrow": false,
          "text": "channel_title=CNN",
          "x": 0.29600000000000004,
          "xanchor": "center",
          "xref": "paper",
          "y": 1,
          "yanchor": "bottom",
          "yref": "paper"
         },
         {
          "font": {},
          "showarrow": false,
          "text": "channel_title=NBC News",
          "x": 0.5,
          "xanchor": "center",
          "xref": "paper",
          "y": 1,
          "yanchor": "bottom",
          "yref": "paper"
         },
         {
          "font": {},
          "showarrow": false,
          "text": "channel_title=The Washington Post",
          "x": 0.7040000000000002,
          "xanchor": "center",
          "xref": "paper",
          "y": 1,
          "yanchor": "bottom",
          "yref": "paper"
         },
         {
          "font": {},
          "showarrow": false,
          "text": "channel_title=USA Today",
          "x": 0.908,
          "xanchor": "center",
          "xref": "paper",
          "y": 1,
          "yanchor": "bottom",
          "yref": "paper"
         }
        ],
        "barmode": "relative",
        "legend": {
         "title": {
          "text": "sentiment"
         },
         "tracegroupgap": 0
        },
        "margin": {
         "t": 60
        },
        "template": {
         "data": {
          "bar": [
           {
            "error_x": {
             "color": "#2a3f5f"
            },
            "error_y": {
             "color": "#2a3f5f"
            },
            "marker": {
             "line": {
              "color": "#E5ECF6",
              "width": 0.5
             },
             "pattern": {
              "fillmode": "overlay",
              "size": 10,
              "solidity": 0.2
             }
            },
            "type": "bar"
           }
          ],
          "barpolar": [
           {
            "marker": {
             "line": {
              "color": "#E5ECF6",
              "width": 0.5
             },
             "pattern": {
              "fillmode": "overlay",
              "size": 10,
              "solidity": 0.2
             }
            },
            "type": "barpolar"
           }
          ],
          "carpet": [
           {
            "aaxis": {
             "endlinecolor": "#2a3f5f",
             "gridcolor": "white",
             "linecolor": "white",
             "minorgridcolor": "white",
             "startlinecolor": "#2a3f5f"
            },
            "baxis": {
             "endlinecolor": "#2a3f5f",
             "gridcolor": "white",
             "linecolor": "white",
             "minorgridcolor": "white",
             "startlinecolor": "#2a3f5f"
            },
            "type": "carpet"
           }
          ],
          "choropleth": [
           {
            "colorbar": {
             "outlinewidth": 0,
             "ticks": ""
            },
            "type": "choropleth"
           }
          ],
          "contour": [
           {
            "colorbar": {
             "outlinewidth": 0,
             "ticks": ""
            },
            "colorscale": [
             [
              0,
              "#0d0887"
             ],
             [
              0.1111111111111111,
              "#46039f"
             ],
             [
              0.2222222222222222,
              "#7201a8"
             ],
             [
              0.3333333333333333,
              "#9c179e"
             ],
             [
              0.4444444444444444,
              "#bd3786"
             ],
             [
              0.5555555555555556,
              "#d8576b"
             ],
             [
              0.6666666666666666,
              "#ed7953"
             ],
             [
              0.7777777777777778,
              "#fb9f3a"
             ],
             [
              0.8888888888888888,
              "#fdca26"
             ],
             [
              1,
              "#f0f921"
             ]
            ],
            "type": "contour"
           }
          ],
          "contourcarpet": [
           {
            "colorbar": {
             "outlinewidth": 0,
             "ticks": ""
            },
            "type": "contourcarpet"
           }
          ],
          "heatmap": [
           {
            "colorbar": {
             "outlinewidth": 0,
             "ticks": ""
            },
            "colorscale": [
             [
              0,
              "#0d0887"
             ],
             [
              0.1111111111111111,
              "#46039f"
             ],
             [
              0.2222222222222222,
              "#7201a8"
             ],
             [
              0.3333333333333333,
              "#9c179e"
             ],
             [
              0.4444444444444444,
              "#bd3786"
             ],
             [
              0.5555555555555556,
              "#d8576b"
             ],
             [
              0.6666666666666666,
              "#ed7953"
             ],
             [
              0.7777777777777778,
              "#fb9f3a"
             ],
             [
              0.8888888888888888,
              "#fdca26"
             ],
             [
              1,
              "#f0f921"
             ]
            ],
            "type": "heatmap"
           }
          ],
          "heatmapgl": [
           {
            "colorbar": {
             "outlinewidth": 0,
             "ticks": ""
            },
            "colorscale": [
             [
              0,
              "#0d0887"
             ],
             [
              0.1111111111111111,
              "#46039f"
             ],
             [
              0.2222222222222222,
              "#7201a8"
             ],
             [
              0.3333333333333333,
              "#9c179e"
             ],
             [
              0.4444444444444444,
              "#bd3786"
             ],
             [
              0.5555555555555556,
              "#d8576b"
             ],
             [
              0.6666666666666666,
              "#ed7953"
             ],
             [
              0.7777777777777778,
              "#fb9f3a"
             ],
             [
              0.8888888888888888,
              "#fdca26"
             ],
             [
              1,
              "#f0f921"
             ]
            ],
            "type": "heatmapgl"
           }
          ],
          "histogram": [
           {
            "marker": {
             "pattern": {
              "fillmode": "overlay",
              "size": 10,
              "solidity": 0.2
             }
            },
            "type": "histogram"
           }
          ],
          "histogram2d": [
           {
            "colorbar": {
             "outlinewidth": 0,
             "ticks": ""
            },
            "colorscale": [
             [
              0,
              "#0d0887"
             ],
             [
              0.1111111111111111,
              "#46039f"
             ],
             [
              0.2222222222222222,
              "#7201a8"
             ],
             [
              0.3333333333333333,
              "#9c179e"
             ],
             [
              0.4444444444444444,
              "#bd3786"
             ],
             [
              0.5555555555555556,
              "#d8576b"
             ],
             [
              0.6666666666666666,
              "#ed7953"
             ],
             [
              0.7777777777777778,
              "#fb9f3a"
             ],
             [
              0.8888888888888888,
              "#fdca26"
             ],
             [
              1,
              "#f0f921"
             ]
            ],
            "type": "histogram2d"
           }
          ],
          "histogram2dcontour": [
           {
            "colorbar": {
             "outlinewidth": 0,
             "ticks": ""
            },
            "colorscale": [
             [
              0,
              "#0d0887"
             ],
             [
              0.1111111111111111,
              "#46039f"
             ],
             [
              0.2222222222222222,
              "#7201a8"
             ],
             [
              0.3333333333333333,
              "#9c179e"
             ],
             [
              0.4444444444444444,
              "#bd3786"
             ],
             [
              0.5555555555555556,
              "#d8576b"
             ],
             [
              0.6666666666666666,
              "#ed7953"
             ],
             [
              0.7777777777777778,
              "#fb9f3a"
             ],
             [
              0.8888888888888888,
              "#fdca26"
             ],
             [
              1,
              "#f0f921"
             ]
            ],
            "type": "histogram2dcontour"
           }
          ],
          "mesh3d": [
           {
            "colorbar": {
             "outlinewidth": 0,
             "ticks": ""
            },
            "type": "mesh3d"
           }
          ],
          "parcoords": [
           {
            "line": {
             "colorbar": {
              "outlinewidth": 0,
              "ticks": ""
             }
            },
            "type": "parcoords"
           }
          ],
          "pie": [
           {
            "automargin": true,
            "type": "pie"
           }
          ],
          "scatter": [
           {
            "fillpattern": {
             "fillmode": "overlay",
             "size": 10,
             "solidity": 0.2
            },
            "type": "scatter"
           }
          ],
          "scatter3d": [
           {
            "line": {
             "colorbar": {
              "outlinewidth": 0,
              "ticks": ""
             }
            },
            "marker": {
             "colorbar": {
              "outlinewidth": 0,
              "ticks": ""
             }
            },
            "type": "scatter3d"
           }
          ],
          "scattercarpet": [
           {
            "marker": {
             "colorbar": {
              "outlinewidth": 0,
              "ticks": ""
             }
            },
            "type": "scattercarpet"
           }
          ],
          "scattergeo": [
           {
            "marker": {
             "colorbar": {
              "outlinewidth": 0,
              "ticks": ""
             }
            },
            "type": "scattergeo"
           }
          ],
          "scattergl": [
           {
            "marker": {
             "colorbar": {
              "outlinewidth": 0,
              "ticks": ""
             }
            },
            "type": "scattergl"
           }
          ],
          "scattermapbox": [
           {
            "marker": {
             "colorbar": {
              "outlinewidth": 0,
              "ticks": ""
             }
            },
            "type": "scattermapbox"
           }
          ],
          "scatterpolar": [
           {
            "marker": {
             "colorbar": {
              "outlinewidth": 0,
              "ticks": ""
             }
            },
            "type": "scatterpolar"
           }
          ],
          "scatterpolargl": [
           {
            "marker": {
             "colorbar": {
              "outlinewidth": 0,
              "ticks": ""
             }
            },
            "type": "scatterpolargl"
           }
          ],
          "scatterternary": [
           {
            "marker": {
             "colorbar": {
              "outlinewidth": 0,
              "ticks": ""
             }
            },
            "type": "scatterternary"
           }
          ],
          "surface": [
           {
            "colorbar": {
             "outlinewidth": 0,
             "ticks": ""
            },
            "colorscale": [
             [
              0,
              "#0d0887"
             ],
             [
              0.1111111111111111,
              "#46039f"
             ],
             [
              0.2222222222222222,
              "#7201a8"
             ],
             [
              0.3333333333333333,
              "#9c179e"
             ],
             [
              0.4444444444444444,
              "#bd3786"
             ],
             [
              0.5555555555555556,
              "#d8576b"
             ],
             [
              0.6666666666666666,
              "#ed7953"
             ],
             [
              0.7777777777777778,
              "#fb9f3a"
             ],
             [
              0.8888888888888888,
              "#fdca26"
             ],
             [
              1,
              "#f0f921"
             ]
            ],
            "type": "surface"
           }
          ],
          "table": [
           {
            "cells": {
             "fill": {
              "color": "#EBF0F8"
             },
             "line": {
              "color": "white"
             }
            },
            "header": {
             "fill": {
              "color": "#C8D4E3"
             },
             "line": {
              "color": "white"
             }
            },
            "type": "table"
           }
          ]
         },
         "layout": {
          "annotationdefaults": {
           "arrowcolor": "#2a3f5f",
           "arrowhead": 0,
           "arrowwidth": 1
          },
          "autotypenumbers": "strict",
          "coloraxis": {
           "colorbar": {
            "outlinewidth": 0,
            "ticks": ""
           }
          },
          "colorscale": {
           "diverging": [
            [
             0,
             "#8e0152"
            ],
            [
             0.1,
             "#c51b7d"
            ],
            [
             0.2,
             "#de77ae"
            ],
            [
             0.3,
             "#f1b6da"
            ],
            [
             0.4,
             "#fde0ef"
            ],
            [
             0.5,
             "#f7f7f7"
            ],
            [
             0.6,
             "#e6f5d0"
            ],
            [
             0.7,
             "#b8e186"
            ],
            [
             0.8,
             "#7fbc41"
            ],
            [
             0.9,
             "#4d9221"
            ],
            [
             1,
             "#276419"
            ]
           ],
           "sequential": [
            [
             0,
             "#0d0887"
            ],
            [
             0.1111111111111111,
             "#46039f"
            ],
            [
             0.2222222222222222,
             "#7201a8"
            ],
            [
             0.3333333333333333,
             "#9c179e"
            ],
            [
             0.4444444444444444,
             "#bd3786"
            ],
            [
             0.5555555555555556,
             "#d8576b"
            ],
            [
             0.6666666666666666,
             "#ed7953"
            ],
            [
             0.7777777777777778,
             "#fb9f3a"
            ],
            [
             0.8888888888888888,
             "#fdca26"
            ],
            [
             1,
             "#f0f921"
            ]
           ],
           "sequentialminus": [
            [
             0,
             "#0d0887"
            ],
            [
             0.1111111111111111,
             "#46039f"
            ],
            [
             0.2222222222222222,
             "#7201a8"
            ],
            [
             0.3333333333333333,
             "#9c179e"
            ],
            [
             0.4444444444444444,
             "#bd3786"
            ],
            [
             0.5555555555555556,
             "#d8576b"
            ],
            [
             0.6666666666666666,
             "#ed7953"
            ],
            [
             0.7777777777777778,
             "#fb9f3a"
            ],
            [
             0.8888888888888888,
             "#fdca26"
            ],
            [
             1,
             "#f0f921"
            ]
           ]
          },
          "colorway": [
           "#636efa",
           "#EF553B",
           "#00cc96",
           "#ab63fa",
           "#FFA15A",
           "#19d3f3",
           "#FF6692",
           "#B6E880",
           "#FF97FF",
           "#FECB52"
          ],
          "font": {
           "color": "#2a3f5f"
          },
          "geo": {
           "bgcolor": "white",
           "lakecolor": "white",
           "landcolor": "#E5ECF6",
           "showlakes": true,
           "showland": true,
           "subunitcolor": "white"
          },
          "hoverlabel": {
           "align": "left"
          },
          "hovermode": "closest",
          "mapbox": {
           "style": "light"
          },
          "paper_bgcolor": "white",
          "plot_bgcolor": "#E5ECF6",
          "polar": {
           "angularaxis": {
            "gridcolor": "white",
            "linecolor": "white",
            "ticks": ""
           },
           "bgcolor": "#E5ECF6",
           "radialaxis": {
            "gridcolor": "white",
            "linecolor": "white",
            "ticks": ""
           }
          },
          "scene": {
           "xaxis": {
            "backgroundcolor": "#E5ECF6",
            "gridcolor": "white",
            "gridwidth": 2,
            "linecolor": "white",
            "showbackground": true,
            "ticks": "",
            "zerolinecolor": "white"
           },
           "yaxis": {
            "backgroundcolor": "#E5ECF6",
            "gridcolor": "white",
            "gridwidth": 2,
            "linecolor": "white",
            "showbackground": true,
            "ticks": "",
            "zerolinecolor": "white"
           },
           "zaxis": {
            "backgroundcolor": "#E5ECF6",
            "gridcolor": "white",
            "gridwidth": 2,
            "linecolor": "white",
            "showbackground": true,
            "ticks": "",
            "zerolinecolor": "white"
           }
          },
          "shapedefaults": {
           "line": {
            "color": "#2a3f5f"
           }
          },
          "ternary": {
           "aaxis": {
            "gridcolor": "white",
            "linecolor": "white",
            "ticks": ""
           },
           "baxis": {
            "gridcolor": "white",
            "linecolor": "white",
            "ticks": ""
           },
           "bgcolor": "#E5ECF6",
           "caxis": {
            "gridcolor": "white",
            "linecolor": "white",
            "ticks": ""
           }
          },
          "title": {
           "x": 0.05
          },
          "xaxis": {
           "automargin": true,
           "gridcolor": "white",
           "linecolor": "white",
           "ticks": "",
           "title": {
            "standoff": 15
           },
           "zerolinecolor": "white",
           "zerolinewidth": 2
          },
          "yaxis": {
           "automargin": true,
           "gridcolor": "white",
           "linecolor": "white",
           "ticks": "",
           "title": {
            "standoff": 15
           },
           "zerolinecolor": "white",
           "zerolinewidth": 2
          }
         }
        },
        "xaxis": {
         "anchor": "y",
         "domain": [
          0,
          0.18400000000000002
         ],
         "title": {
          "text": "secondary_emotion"
         }
        },
        "xaxis2": {
         "anchor": "y2",
         "domain": [
          0.20400000000000001,
          0.388
         ],
         "matches": "x",
         "title": {
          "text": "secondary_emotion"
         }
        },
        "xaxis3": {
         "anchor": "y3",
         "domain": [
          0.40800000000000003,
          0.5920000000000001
         ],
         "matches": "x",
         "title": {
          "text": "secondary_emotion"
         }
        },
        "xaxis4": {
         "anchor": "y4",
         "domain": [
          0.6120000000000001,
          0.7960000000000002
         ],
         "matches": "x",
         "title": {
          "text": "secondary_emotion"
         }
        },
        "xaxis5": {
         "anchor": "y5",
         "domain": [
          0.8160000000000001,
          1
         ],
         "matches": "x",
         "title": {
          "text": "secondary_emotion"
         }
        },
        "yaxis": {
         "anchor": "x",
         "domain": [
          0,
          1
         ],
         "title": {
          "text": "perc"
         }
        },
        "yaxis2": {
         "anchor": "x2",
         "domain": [
          0,
          1
         ],
         "matches": "y",
         "showticklabels": false
        },
        "yaxis3": {
         "anchor": "x3",
         "domain": [
          0,
          1
         ],
         "matches": "y",
         "showticklabels": false
        },
        "yaxis4": {
         "anchor": "x4",
         "domain": [
          0,
          1
         ],
         "matches": "y",
         "showticklabels": false
        },
        "yaxis5": {
         "anchor": "x5",
         "domain": [
          0,
          1
         ],
         "matches": "y",
         "showticklabels": false
        }
       }
      }
     },
     "metadata": {},
     "output_type": "display_data"
    }
   ],
   "source": [
    "import plotly.express as px\n",
    "\n",
    "dfUSA = dfa[dfa['region']=='USA']\n",
    "fig = px.bar(dfa[(dfa['region']=='USA') & (dfa['entity']=='trump')], x='secondary_emotion', y='perc', color='sentiment', facet_col='channel_title')\n",
    "fig.show()"
   ]
  }
 ],
 "metadata": {
  "kernelspec": {
   "display_name": "Python 3",
   "language": "python",
   "name": "python3"
  },
  "language_info": {
   "codemirror_mode": {
    "name": "ipython",
    "version": 3
   },
   "file_extension": ".py",
   "mimetype": "text/x-python",
   "name": "python",
   "nbconvert_exporter": "python",
   "pygments_lexer": "ipython3",
   "version": "3.11.9"
  }
 },
 "nbformat": 4,
 "nbformat_minor": 2
}
