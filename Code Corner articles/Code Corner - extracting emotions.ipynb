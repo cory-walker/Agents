{
 "cells": [
  {
   "cell_type": "markdown",
   "metadata": {},
   "source": [
    "First things first, lets import the modules we will need and define the LLM model to use.\\\n",
    "DSPY enables you to use LLMs locally or over API. For this example, we will use OpenAI's ChatGPT"
   ]
  },
  {
   "cell_type": "code",
   "execution_count": 1,
   "metadata": {},
   "outputs": [],
   "source": [
    "import dspy #Read the docs: https://dspy.ai/\n",
    "from typing import Literal\n",
    "\n",
    "openai_model='gpt-4o-mini' # This is specific openAI model we want to use\n",
    "openai_api_key = '[REDACTED]' #You need to use your own API key here\n",
    "\n",
    "lm = dspy.LM(openai_model, api_key=openai_api_key) # Setup the Language Model\n",
    "dspy.configure(lm=lm) # Configure dspy with the Language Model"
   ]
  },
  {
   "cell_type": "markdown",
   "metadata": {},
   "source": [
    "We will use Parrott's emotions by groups for our emotion classification.\\\n",
    "For more information, please visit: https://en.wikipedia.org/wiki/Emotion_classification\\\n",
    "\\\n",
    "To enable DSPY to classify our text, we first need to setup \"Signatures\""
   ]
  },
  {
   "cell_type": "code",
   "execution_count": 2,
   "metadata": {},
   "outputs": [],
   "source": [
    "class SecondaryEmotion(dspy.Signature):\n",
    "            '''Classify secondary emotion'''\n",
    "            text: str = dspy.InputField()\n",
    "            sentiment: Literal['affection', 'lust', 'longing', 'cheerfulness', 'zest', 'contentment', 'pride', 'optimism', 'enthrallment', 'relief', 'surprise', 'irritability',\n",
    "                               'exasperation', 'rage', 'disgust', 'envy', 'torment', 'suffering', 'disappointment', 'shame', 'neglect', 'sympathy', 'horror', 'nervousness'] = dspy.OutputField()\n",
    "\n",
    "class PrimaryEmotion(dspy.Signature):\n",
    "    '''Classify Emotion'''\n",
    "    text: str = dspy.InputField()\n",
    "    sentiment: Literal['sadness', 'joy', 'love',\n",
    "                        'anger', 'fear', 'surprise'] = dspy.OutputField()"
   ]
  },
  {
   "cell_type": "markdown",
   "metadata": {},
   "source": [
    "Next, we will setup our procedures that will streamline sending information to the LLM for classification"
   ]
  },
  {
   "cell_type": "code",
   "execution_count": 7,
   "metadata": {},
   "outputs": [],
   "source": [
    "def analyze_primary_emotion(text):\n",
    "    '''DSPY: Returns the emotion most evoked by the text'''\n",
    "    classify = dspy.Predict(PrimaryEmotion)\n",
    "    response = classify(text=text)\n",
    "    return response.sentiment\n",
    "\n",
    "def analyze_secondary_emotion(text):\n",
    "    '''DSPY: Returns the secondary emotion most evoked by the text'''\n",
    "    classify = dspy.Predict(SecondaryEmotion)\n",
    "    response = classify(text=text)\n",
    "    return response.sentiment\n",
    "\n",
    "def analyze_emotions(text):\n",
    "    '''Calls both DSPY emotion analysis functions returning their results'''\n",
    "    primary_emotion = analyze_primary_emotion(text)\n",
    "    secondary_emotion = analyze_secondary_emotion(text)\n",
    "    return primary_emotion, secondary_emotion"
   ]
  },
  {
   "cell_type": "markdown",
   "metadata": {},
   "source": [
    "Next, we'll use some classic and creative commons poetry to test out our classifers\\\n",
    "Poems are sourced from: https://poets.org/anthology/poems-your-poetry-project-public-domain"
   ]
  },
  {
   "cell_type": "code",
   "execution_count": 4,
   "metadata": {},
   "outputs": [],
   "source": [
    "#A Jelly-Fish: Marianne Moore, 1887-1972\n",
    "poem_a_jelly_fish = '''\n",
    "Visible, invisible,\n",
    "A fluctuating charm,\n",
    "An amber-colored amethyst\n",
    "Inhabits it; your arm\n",
    "Approaches, and\n",
    "It opens and\n",
    "It closes;\n",
    "You have meant\n",
    "To catch it,\n",
    "And it shrivels;\n",
    "You abandon\n",
    "Your intent—\n",
    "It opens, and it\n",
    "Closes and you\n",
    "Reach for it—\n",
    "The blue\n",
    "Surrounding it\n",
    "Grows cloudy, and\n",
    "It floats away\n",
    "From you.'''\n",
    "\n",
    "#Songs for the People: Frances Ellen Watkins Harper, 1825-1921\n",
    "poem_songs_for_the_people = '''\n",
    "Let me make the songs for the people,\n",
    "   Songs for the old and young;\n",
    "Songs to stir like a battle-cry\n",
    "   Wherever they are sung.\n",
    "\n",
    "Not for the clashing of sabres,\n",
    "   For carnage nor for strife;\n",
    "But songs to thrill the hearts of men\n",
    "   With more abundant life.\n",
    "\n",
    "Let me make the songs for the weary,\n",
    "   Amid life's fever and fret,\n",
    "Till hearts shall relax their tension,\n",
    "   And careworn brows forget.\n",
    "\n",
    "Let me sing for little children,\n",
    "   Before their footsteps stray,\n",
    "Sweet anthems of love and duty,\n",
    "   To float o'er life's highway.\n",
    "\n",
    "I would sing for the poor and aged,\n",
    "   When shadows dim their sight;\n",
    "Of the bright and restful mansions,\n",
    "   Where there shall be no night.\n",
    "\n",
    "Our world, so worn and weary,\n",
    "   Needs music, pure and strong,\n",
    "To hush the jangle and discords\n",
    "   Of sorrow, pain, and wrong.\n",
    "\n",
    "Music to soothe all its sorrow,\n",
    "   Till war and crime shall cease; \n",
    "And the hearts of men grown tender\n",
    "   Girdle the world with peace.'''"
   ]
  },
  {
   "cell_type": "markdown",
   "metadata": {},
   "source": [
    "Now we can send the text over to ChatGPT and have it analyzed."
   ]
  },
  {
   "cell_type": "code",
   "execution_count": 8,
   "metadata": {},
   "outputs": [
    {
     "name": "stdout",
     "output_type": "stream",
     "text": [
      "Poem: A Jelly-fish. Primary emotion: sadness. Secondary emotion: longing\n",
      "Poem: Songs for the people. Primary emotion: love. Secondary emotion: optimism\n"
     ]
    }
   ],
   "source": [
    "pemote, semote = analyze_emotions(poem_a_jelly_fish)\n",
    "pemote2, semote2 = analyze_emotions(poem_songs_for_the_people)\n",
    "print(f'Poem: A Jelly-fish. Primary emotion: {pemote}. Secondary emotion: {semote}\\nPoem: Songs for the people. Primary emotion: {pemote2}. Secondary emotion: {semote2}')"
   ]
  },
  {
   "cell_type": "markdown",
   "metadata": {},
   "source": [
    "I hope this example illustrates how straight forward it can be to use modern technologies to classify any text you want.\\\n",
    "With DSPY, you can perform classification like we just did, or go deeper and utilize \"Chain of thought\" reasoning or more!\\\n",
    "\\\n",
    "If you would like a look at a larger (work in progress) program that leverages LLMs for classification, article writing, and can search YouTube for transcripts to see what's happening in the world, please check out here: https://github.com/cory-walker/Agents\\\n",
    "\\\n",
    "How would you leverage AI if cost wasn't a factor?"
   ]
  }
 ],
 "metadata": {
  "kernelspec": {
   "display_name": "Python 3",
   "language": "python",
   "name": "python3"
  },
  "language_info": {
   "codemirror_mode": {
    "name": "ipython",
    "version": 3
   },
   "file_extension": ".py",
   "mimetype": "text/x-python",
   "name": "python",
   "nbconvert_exporter": "python",
   "pygments_lexer": "ipython3",
   "version": "3.11.9"
  }
 },
 "nbformat": 4,
 "nbformat_minor": 2
}
